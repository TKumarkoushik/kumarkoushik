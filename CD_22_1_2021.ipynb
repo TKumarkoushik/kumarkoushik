{
  "nbformat": 4,
  "nbformat_minor": 0,
  "metadata": {
    "colab": {
      "name": "CD_22_1_2021",
      "provenance": [],
      "authorship_tag": "ABX9TyMrNg8MxC56xSVe5jmQOTVj",
      "include_colab_link": true
    },
    "kernelspec": {
      "name": "python3",
      "display_name": "Python 3"
    }
  },
  "cells": [
    {
      "cell_type": "markdown",
      "metadata": {
        "id": "view-in-github",
        "colab_type": "text"
      },
      "source": [
        "<a href=\"https://colab.research.google.com/github/TKumarkoushik/kumarkoushik/blob/master/CD_22_1_2021.ipynb\" target=\"_parent\"><img src=\"https://colab.research.google.com/assets/colab-badge.svg\" alt=\"Open In Colab\"/></a>"
      ]
    },
    {
      "cell_type": "code",
      "metadata": {
        "id": "33Kg-CcvEPy8",
        "colab": {
          "base_uri": "https://localhost:8080/"
        },
        "outputId": "9d66444c-f1ea-42f9-8c46-b79388035e58"
      },
      "source": [
        "s1 = {'a', 'ab', 'bb'}\r\n",
        "s2 = {'b', 'ab', 'bb'}\r\n",
        "s = s1.difference(s2)\r\n",
        "\r\n",
        "print(s)\r\n",
        "\r\n"
      ],
      "execution_count": 3,
      "outputs": [
        {
          "output_type": "stream",
          "text": [
            "{'a'}\n"
          ],
          "name": "stdout"
        }
      ]
    },
    {
      "cell_type": "code",
      "metadata": {
        "colab": {
          "base_uri": "https://localhost:8080/"
        },
        "id": "hicaHQ8IHDQJ",
        "outputId": "fca41db7-e2c7-4c7d-d987-e98033f09e64"
      },
      "source": [
        "a,b = map(int, input(\"input number of elements in 1st and 2nd language: \").split())\r\n",
        "X=[]; Y=[]\r\n",
        "print(\"give the input elements to 1st list\")\r\n",
        "for m in range(a):\r\n",
        "  X.append(input())\r\n",
        "print(\"give the input elements to 2nd list\")\r\n",
        "for n in range(b):\r\n",
        "  Y.append(input())\r\n",
        "Z=[]\r\n",
        "for i in X:\r\n",
        "  if (i not in Y):\r\n",
        "    Z.append(i)\r\n",
        "print(\"the difference between 1st language and second language is: \",Z)"
      ],
      "execution_count": 7,
      "outputs": [
        {
          "output_type": "stream",
          "text": [
            "input number of elements in 1st and 2nd language: 3 3\n",
            "give the input elements to 1st list\n",
            "a\n",
            "ab\n",
            "bb\n",
            "give the input elements to 2nd list\n",
            "b\n",
            "ab\n",
            "bb\n",
            "the difference between 1st language and second language is:  ['a']\n"
          ],
          "name": "stdout"
        }
      ]
    },
    {
      "cell_type": "code",
      "metadata": {
        "colab": {
          "base_uri": "https://localhost:8080/"
        },
        "id": "tSf1D9iaLlY6",
        "outputId": "3ecfa20c-9ac5-43d7-9713-a4a40e5d505e"
      },
      "source": [
        "#kleene closure\r\n",
        "s1=input(\"enter a set:\").split()\r\n",
        "a=[]\r\n",
        "def join(s):\r\n",
        "  temp=[]\r\n",
        "  for i in s:\r\n",
        "    for j in s1:\r\n",
        "      temp.append(i+j)\r\n",
        "  return temp\r\n",
        "print(\"give the input elements to list\")\r\n",
        "m=int(input(\"enter the number of sets?\"))\r\n",
        "temp=[i for i in s1]\r\n",
        "for i in range(m):\r\n",
        "  if (i==0):\r\n",
        "    a.append('#')\r\n",
        "    continue\r\n",
        "  if (i==1):\r\n",
        "    a=a+s1\r\n",
        "    continue\r\n",
        "  temp=join(temp)\r\n",
        "  a=a+temp\r\n",
        "print(a)"
      ],
      "execution_count": 19,
      "outputs": [
        {
          "output_type": "stream",
          "text": [
            "enter a set:a b ab\n",
            "give the input elements to list\n",
            "enter the number of sets?3\n",
            "['#', 'a', 'b', 'ab', 'aa', 'ab', 'aab', 'ba', 'bb', 'bab', 'aba', 'abb', 'abab']\n"
          ],
          "name": "stdout"
        }
      ]
    },
    {
      "cell_type": "code",
      "metadata": {
        "colab": {
          "base_uri": "https://localhost:8080/"
        },
        "id": "BcNKWs4-Xqt8",
        "outputId": "60ca1574-c53e-44b7-be0a-7ac5a3f62674"
      },
      "source": [
        "#positive closure\r\n",
        "s1=input(\"enter a set:\").split()\r\n",
        "a=[]\r\n",
        "def join(s):\r\n",
        "  temp=[]\r\n",
        "  for i in s:\r\n",
        "    for j in s1:\r\n",
        "      temp.append(i+j)\r\n",
        "  return temp\r\n",
        "print(\"give the input elements to list\")\r\n",
        "m=int(input(\"enter the number of sets?\"))\r\n",
        "temp=[i for i in s1]\r\n",
        "for i in range(m):\r\n",
        "  a=a+s1\r\n",
        "  continue\r\n",
        "  temp=join(temp)\r\n",
        "  a=a+temp\r\n",
        "print(a)"
      ],
      "execution_count": 20,
      "outputs": [
        {
          "output_type": "stream",
          "text": [
            "enter a set:a b ab\n",
            "give the input elements to list\n",
            "enter the number of sets?3\n",
            "['a', 'b', 'ab', 'a', 'b', 'ab', 'a', 'b', 'ab']\n"
          ],
          "name": "stdout"
        }
      ]
    },
    {
      "cell_type": "code",
      "metadata": {
        "colab": {
          "base_uri": "https://localhost:8080/"
        },
        "id": "NN3FC2lJX9br",
        "outputId": "68d58c1c-3957-48c0-aa40-68c9fc4c5dd4"
      },
      "source": [
        "#reverse\r\n",
        "s=input(\"enter a set:\").split()\r\n",
        "r=[]\r\n",
        "for i in range(len(s)):\r\n",
        "  r.append(s[i][::-1])\r\n",
        "print(r)"
      ],
      "execution_count": 21,
      "outputs": [
        {
          "output_type": "stream",
          "text": [
            "enter a set:a b ab\n",
            "['a', 'b', 'ba']\n"
          ],
          "name": "stdout"
        }
      ]
    }
  ]
}