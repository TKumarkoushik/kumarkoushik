{
  "nbformat": 4,
  "nbformat_minor": 0,
  "metadata": {
    "colab": {
      "name": "CD_8_1_21",
      "provenance": [],
      "collapsed_sections": [],
      "authorship_tag": "ABX9TyPE415kri5D5VPSmUJgX59B",
      "include_colab_link": true
    },
    "kernelspec": {
      "name": "python3",
      "display_name": "Python 3"
    }
  },
  "cells": [
    {
      "cell_type": "markdown",
      "metadata": {
        "id": "view-in-github",
        "colab_type": "text"
      },
      "source": [
        "<a href=\"https://colab.research.google.com/github/TKumarkoushik/kumarkoushik/blob/master/CD_8_1_21.ipynb\" target=\"_parent\"><img src=\"https://colab.research.google.com/assets/colab-badge.svg\" alt=\"Open In Colab\"/></a>"
      ]
    },
    {
      "cell_type": "code",
      "metadata": {
        "colab": {
          "base_uri": "https://localhost:8080/"
        },
        "id": "Nuh4zHTIFGkN",
        "outputId": "ce197b1d-a66b-4281-966c-0ffa5b1848e0"
      },
      "source": [
        "a=input()\r\n",
        "print(\"The prefixes of the string are:\")\r\n",
        "print(\"null\")\r\n",
        "for i in range(len(a)):\r\n",
        "  print(a[0:i+1])"
      ],
      "execution_count": 1,
      "outputs": [
        {
          "output_type": "stream",
          "text": [
            "KOUSHIK\n",
            "The prefixes of the string are:\n",
            "null\n",
            "K\n",
            "KO\n",
            "KOU\n",
            "KOUS\n",
            "KOUSH\n",
            "KOUSHI\n",
            "KOUSHIK\n"
          ],
          "name": "stdout"
        }
      ]
    },
    {
      "cell_type": "code",
      "metadata": {
        "colab": {
          "base_uri": "https://localhost:8080/"
        },
        "id": "6Ee8x0d5Hq5l",
        "outputId": "090f21a0-e488-403d-8e39-bf526a921be1"
      },
      "source": [
        "a=input()\r\n",
        "print(\"The proper prefixes of the string are:\")\r\n",
        "for i in range(len(a)):\r\n",
        "  print(a[0:i])"
      ],
      "execution_count": 2,
      "outputs": [
        {
          "output_type": "stream",
          "text": [
            "KOUSHIK\n",
            "The proper prefix of the string are:\n",
            "\n",
            "K\n",
            "KO\n",
            "KOU\n",
            "KOUS\n",
            "KOUSH\n",
            "KOUSHI\n"
          ],
          "name": "stdout"
        }
      ]
    },
    {
      "cell_type": "code",
      "metadata": {
        "colab": {
          "base_uri": "https://localhost:8080/"
        },
        "id": "-6YQORCZIXoF",
        "outputId": "4bb1b827-4bab-43f0-fafe-fcfba811cdb0"
      },
      "source": [
        "a=input()\r\n",
        "print(\"The suffixes of the string are:\")\r\n",
        "print(\"null\")\r\n",
        "for i in range(len(a)-1,-1,-1):\r\n",
        "  print(a[i:len(a)])"
      ],
      "execution_count": 7,
      "outputs": [
        {
          "output_type": "stream",
          "text": [
            "KOUSHIK\n",
            "The suffix of the string are:\n",
            "null\n",
            "K\n",
            "IK\n",
            "HIK\n",
            "SHIK\n",
            "USHIK\n",
            "OUSHIK\n",
            "KOUSHIK\n"
          ],
          "name": "stdout"
        }
      ]
    },
    {
      "cell_type": "code",
      "metadata": {
        "colab": {
          "base_uri": "https://localhost:8080/"
        },
        "id": "6Ge_wmDGLIIG",
        "outputId": "e173a84b-8f97-463f-e997-6673ae2737db"
      },
      "source": [
        "a=input()\r\n",
        "print(\"The proper suffixes of the string are:\")\r\n",
        "for i in range(len(a)-1,-1,-1):\r\n",
        "  print(a[i:len(a)-1])"
      ],
      "execution_count": 8,
      "outputs": [
        {
          "output_type": "stream",
          "text": [
            "KOUSHIK\n",
            "The proper suffix of the string are:\n",
            "\n",
            "I\n",
            "HI\n",
            "SHI\n",
            "USHI\n",
            "OUSHI\n",
            "KOUSHI\n"
          ],
          "name": "stdout"
        }
      ]
    },
    {
      "cell_type": "code",
      "metadata": {
        "colab": {
          "base_uri": "https://localhost:8080/"
        },
        "id": "NnfTVrSULSI9",
        "outputId": "a104581f-6c56-4ef3-e201-4ad74faae23f"
      },
      "source": [
        "a=input()\r\n",
        "print(\"The substrings of the string are:\")\r\n",
        "print(\"null\")\r\n",
        "for i in range(len(a)):\r\n",
        "  for j in range(i,len(a)):\r\n",
        "    print(a[i:j+1])"
      ],
      "execution_count": 10,
      "outputs": [
        {
          "output_type": "stream",
          "text": [
            "KOUSHIK\n",
            "The substrings of the string are:\n",
            "null\n",
            "K\n",
            "KO\n",
            "KOU\n",
            "KOUS\n",
            "KOUSH\n",
            "KOUSHI\n",
            "KOUSHIK\n",
            "O\n",
            "OU\n",
            "OUS\n",
            "OUSH\n",
            "OUSHI\n",
            "OUSHIK\n",
            "U\n",
            "US\n",
            "USH\n",
            "USHI\n",
            "USHIK\n",
            "S\n",
            "SH\n",
            "SHI\n",
            "SHIK\n",
            "H\n",
            "HI\n",
            "HIK\n",
            "I\n",
            "IK\n",
            "K\n"
          ],
          "name": "stdout"
        }
      ]
    },
    {
      "cell_type": "code",
      "metadata": {
        "colab": {
          "base_uri": "https://localhost:8080/"
        },
        "id": "-gGq8G6JNIlN",
        "outputId": "1e9cf1da-b597-4bb5-d8de-65d892273f86"
      },
      "source": [
        "a=input()\r\n",
        "print(\"The proper substrings of the string are:\")\r\n",
        "print(\"null\")\r\n",
        "for i in range(len(a)):\r\n",
        "  for j in range(i,len(a)):\r\n",
        "    if len(a[i:j+1])==len(a):\r\n",
        "      continue\r\n",
        "    print(a[i:j+1])"
      ],
      "execution_count": 12,
      "outputs": [
        {
          "output_type": "stream",
          "text": [
            "KOUSHIK\n",
            "The proper substrings of the string are:\n",
            "null\n",
            "K\n",
            "KO\n",
            "KOU\n",
            "KOUS\n",
            "KOUSH\n",
            "KOUSHI\n",
            "O\n",
            "OU\n",
            "OUS\n",
            "OUSH\n",
            "OUSHI\n",
            "OUSHIK\n",
            "U\n",
            "US\n",
            "USH\n",
            "USHI\n",
            "USHIK\n",
            "S\n",
            "SH\n",
            "SHI\n",
            "SHIK\n",
            "H\n",
            "HI\n",
            "HIK\n",
            "I\n",
            "IK\n",
            "K\n"
          ],
          "name": "stdout"
        }
      ]
    },
    {
      "cell_type": "code",
      "metadata": {
        "colab": {
          "base_uri": "https://localhost:8080/"
        },
        "id": "aaTNZ3rOOESM",
        "outputId": "89ce9dc1-1047-4eee-a0a8-b761dc2e1275"
      },
      "source": [
        "setA = [\"a\",\"aa\",\"abb\",\"bb\"]\r\n",
        "setB = [\"b\",\"ba\",\"bb\",\"bba\"]\r\n",
        "\r\n",
        "intersection = [i for i in setA if i in setB]\r\n",
        "union = list({i: i for i in setA + setB})\r\n",
        "\r\n",
        "print(intersection)\r\n",
        "print(union)"
      ],
      "execution_count": 21,
      "outputs": [
        {
          "output_type": "stream",
          "text": [
            "['bb']\n",
            "['a', 'aa', 'abb', 'bb', 'b', 'ba', 'bba']\n"
          ],
          "name": "stdout"
        }
      ]
    },
    {
      "cell_type": "code",
      "metadata": {
        "id": "dnohH1naSYxl"
      },
      "source": [
        "setA = [\"a\",\"aa\",\"abb\",\"bb\"]\r\n",
        "setB = [\"b\",\"ba\",\"bb\",\"bba\"]\r\n",
        "concatenation = "
      ],
      "execution_count": null,
      "outputs": []
    }
  ]
}