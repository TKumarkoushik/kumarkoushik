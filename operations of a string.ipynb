{
  "nbformat": 4,
  "nbformat_minor": 0,
  "metadata": {
    "colab": {
      "name": "CD_8_1_21",
      "provenance": [],
      "authorship_tag": "ABX9TyN8F8OcfLuePmaMx5eM9xmv",
      "include_colab_link": true
    },
    "kernelspec": {
      "name": "python3",
      "display_name": "Python 3"
    }
  },
  "cells": [
    {
      "cell_type": "markdown",
      "metadata": {
        "id": "view-in-github",
        "colab_type": "text"
      },
      "source": [
        "<a href=\"https://colab.research.google.com/github/TKumarkoushik/kumarkoushik/blob/master/operations%20of%20a%20string.ipynb\" target=\"_parent\"><img src=\"https://colab.research.google.com/assets/colab-badge.svg\" alt=\"Open In Colab\"/></a>"
      ]
    },
    {
      "cell_type": "code",
      "metadata": {
        "colab": {
          "base_uri": "https://localhost:8080/"
        },
        "id": "Nuh4zHTIFGkN",
        "outputId": "ce197b1d-a66b-4281-966c-0ffa5b1848e0"
      },
      "source": [
        "a=input()\r\n",
        "print(\"The prefixes of the string are:\")\r\n",
        "print(\"null\")\r\n",
        "for i in range(len(a)):\r\n",
        "  print(a[0:i+1])"
      ],
      "execution_count": 1,
      "outputs": [
        {
          "output_type": "stream",
          "text": [
            "KOUSHIK\n",
            "The prefixes of the string are:\n",
            "null\n",
            "K\n",
            "KO\n",
            "KOU\n",
            "KOUS\n",
            "KOUSH\n",
            "KOUSHI\n",
            "KOUSHIK\n"
          ],
          "name": "stdout"
        }
      ]
    },
    {
      "cell_type": "code",
      "metadata": {
        "colab": {
          "base_uri": "https://localhost:8080/"
        },
        "id": "6Ee8x0d5Hq5l",
        "outputId": "090f21a0-e488-403d-8e39-bf526a921be1"
      },
      "source": [
        "a=input()\r\n",
        "print(\"The proper prefixes of the string are:\")\r\n",
        "for i in range(len(a)):\r\n",
        "  print(a[0:i])"
      ],
      "execution_count": 2,
      "outputs": [
        {
          "output_type": "stream",
          "text": [
            "KOUSHIK\n",
            "The proper prefix of the string are:\n",
            "\n",
            "K\n",
            "KO\n",
            "KOU\n",
            "KOUS\n",
            "KOUSH\n",
            "KOUSHI\n"
          ],
          "name": "stdout"
        }
      ]
    },
    {
      "cell_type": "code",
      "metadata": {
        "colab": {
          "base_uri": "https://localhost:8080/"
        },
        "id": "-6YQORCZIXoF",
        "outputId": "4bb1b827-4bab-43f0-fafe-fcfba811cdb0"
      },
      "source": [
        "a=input()\r\n",
        "print(\"The suffixes of the string are:\")\r\n",
        "print(\"null\")\r\n",
        "for i in range(len(a)-1,-1,-1):\r\n",
        "  print(a[i:len(a)])"
      ],
      "execution_count": 7,
      "outputs": [
        {
          "output_type": "stream",
          "text": [
            "KOUSHIK\n",
            "The suffix of the string are:\n",
            "null\n",
            "K\n",
            "IK\n",
            "HIK\n",
            "SHIK\n",
            "USHIK\n",
            "OUSHIK\n",
            "KOUSHIK\n"
          ],
          "name": "stdout"
        }
      ]
    },
    {
      "cell_type": "code",
      "metadata": {
        "colab": {
          "base_uri": "https://localhost:8080/"
        },
        "id": "6Ge_wmDGLIIG",
        "outputId": "e173a84b-8f97-463f-e997-6673ae2737db"
      },
      "source": [
        "a=input()\r\n",
        "print(\"The proper suffixes of the string are:\")\r\n",
        "for i in range(len(a)-1,-1,-1):\r\n",
        "  print(a[i:len(a)-1])"
      ],
      "execution_count": 8,
      "outputs": [
        {
          "output_type": "stream",
          "text": [
            "KOUSHIK\n",
            "The proper suffix of the string are:\n",
            "\n",
            "I\n",
            "HI\n",
            "SHI\n",
            "USHI\n",
            "OUSHI\n",
            "KOUSHI\n"
          ],
          "name": "stdout"
        }
      ]
    },
    {
      "cell_type": "code",
      "metadata": {
        "id": "NnfTVrSULSI9"
      },
      "source": [
        "a=input()\r\n",
        "print(\"The substrings of the string are:\")\r\n",
        "print(\"null\")\r\n",
        "print(\"\")"
      ],
      "execution_count": null,
      "outputs": []
    }
  ]
}